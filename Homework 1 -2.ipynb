{
 "cells": [
  {
   "cell_type": "code",
   "execution_count": 1,
   "id": "6d356f58",
   "metadata": {
    "scrolled": true
   },
   "outputs": [
    {
     "name": "stdout",
     "output_type": "stream",
     "text": [
      "['blue', 'magenta', 'orange', 'green']\n"
     ]
    }
   ],
   "source": [
    "colors= [\"blue\", \"magenta\", \"orange\", \"green\"]\n",
    "print (colors)"
   ]
  },
  {
   "cell_type": "markdown",
   "id": "1220bba0",
   "metadata": {},
   "source": []
  },
  {
   "cell_type": "code",
   "execution_count": 3,
   "id": "00751ad3",
   "metadata": {},
   "outputs": [],
   "source": [
    "numbers= list(range(30,63,3))"
   ]
  },
  {
   "cell_type": "code",
   "execution_count": 4,
   "id": "67952080",
   "metadata": {
    "scrolled": true
   },
   "outputs": [
    {
     "name": "stdout",
     "output_type": "stream",
     "text": [
      "[30, 33, 36, 39, 42, 45, 48, 51, 54, 57, 60]\n"
     ]
    }
   ],
   "source": [
    "print (numbers)"
   ]
  },
  {
   "cell_type": "code",
   "execution_count": 5,
   "id": "5338cb55",
   "metadata": {},
   "outputs": [
    {
     "data": {
      "text/plain": [
       "(30, 33, 36, 39, 42, 45, 48, 51, 54, 57, 60)"
      ]
     },
     "execution_count": 5,
     "metadata": {},
     "output_type": "execute_result"
    }
   ],
   "source": [
    "tuple(numbers)"
   ]
  },
  {
   "cell_type": "code",
   "execution_count": 1,
   "id": "4bddd11c",
   "metadata": {},
   "outputs": [],
   "source": [
    "data =[]"
   ]
  },
  {
   "cell_type": "code",
   "execution_count": 2,
   "id": "15bf1bff",
   "metadata": {},
   "outputs": [],
   "source": [
    "data.append(1)"
   ]
  },
  {
   "cell_type": "code",
   "execution_count": 3,
   "id": "947497d7",
   "metadata": {},
   "outputs": [],
   "source": [
    "data.append(2)\n",
    "data.append(3)\n",
    "data.append(4)\n",
    "data.append(5)"
   ]
  },
  {
   "cell_type": "code",
   "execution_count": 4,
   "id": "3ab40e50",
   "metadata": {},
   "outputs": [
    {
     "name": "stdout",
     "output_type": "stream",
     "text": [
      "[1, 2, 3, 4, 5]\n"
     ]
    }
   ],
   "source": [
    "print(data)"
   ]
  },
  {
   "cell_type": "code",
   "execution_count": 5,
   "id": "0c7c7ed4",
   "metadata": {},
   "outputs": [],
   "source": [
    "data.remove(3)"
   ]
  },
  {
   "cell_type": "code",
   "execution_count": 6,
   "id": "7cb1daa8",
   "metadata": {},
   "outputs": [
    {
     "name": "stdout",
     "output_type": "stream",
     "text": [
      "[1, 2, 4, 5]\n"
     ]
    }
   ],
   "source": [
    "print(data)"
   ]
  },
  {
   "cell_type": "code",
   "execution_count": 7,
   "id": "38de0587",
   "metadata": {},
   "outputs": [],
   "source": [
    "data.insert(2,2)"
   ]
  },
  {
   "cell_type": "code",
   "execution_count": 8,
   "id": "2a6cfcfe",
   "metadata": {},
   "outputs": [
    {
     "name": "stdout",
     "output_type": "stream",
     "text": [
      "[1, 2, 2, 4, 5]\n"
     ]
    }
   ],
   "source": [
    "print(data)"
   ]
  },
  {
   "cell_type": "code",
   "execution_count": 9,
   "id": "3e4412e6",
   "metadata": {},
   "outputs": [
    {
     "name": "stdout",
     "output_type": "stream",
     "text": [
      "5\n"
     ]
    }
   ],
   "source": [
    "print(len(data))"
   ]
  },
  {
   "cell_type": "code",
   "execution_count": 10,
   "id": "571a06c1",
   "metadata": {},
   "outputs": [
    {
     "name": "stdout",
     "output_type": "stream",
     "text": [
      "5\n"
     ]
    }
   ],
   "source": [
    "print(max(data))"
   ]
  },
  {
   "cell_type": "code",
   "execution_count": 11,
   "id": "87f0688e",
   "metadata": {},
   "outputs": [
    {
     "name": "stdout",
     "output_type": "stream",
     "text": [
      "1\n"
     ]
    }
   ],
   "source": [
    "print(min(data))"
   ]
  },
  {
   "cell_type": "code",
   "execution_count": 18,
   "id": "926dd9ad",
   "metadata": {},
   "outputs": [
    {
     "name": "stdout",
     "output_type": "stream",
     "text": [
      "[1, 2, 3, 4, 5, 6, 7, 8, 9, 10]\n"
     ]
    }
   ],
   "source": [
    "numbs=list(range(1,11))\n",
    "print(numbs)"
   ]
  },
  {
   "cell_type": "code",
   "execution_count": 19,
   "id": "89a969fd",
   "metadata": {},
   "outputs": [
    {
     "data": {
      "text/plain": [
       "55"
      ]
     },
     "execution_count": 19,
     "metadata": {},
     "output_type": "execute_result"
    }
   ],
   "source": [
    "sum(numbs)"
   ]
  },
  {
   "cell_type": "code",
   "execution_count": null,
   "id": "bee145fa",
   "metadata": {},
   "outputs": [],
   "source": []
  },
  {
   "cell_type": "code",
   "execution_count": null,
   "id": "a8feed36",
   "metadata": {},
   "outputs": [],
   "source": []
  }
 ],
 "metadata": {
  "kernelspec": {
   "display_name": "Python 3",
   "language": "python",
   "name": "python3"
  },
  "language_info": {
   "codemirror_mode": {
    "name": "ipython",
    "version": 3
   },
   "file_extension": ".py",
   "mimetype": "text/x-python",
   "name": "python",
   "nbconvert_exporter": "python",
   "pygments_lexer": "ipython3",
   "version": "3.8.8"
  }
 },
 "nbformat": 4,
 "nbformat_minor": 5
}
