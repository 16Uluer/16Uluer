{
 "cells": [
  {
   "cell_type": "code",
   "execution_count": 2,
   "id": "b440355a",
   "metadata": {},
   "outputs": [],
   "source": [
    "numbers =[2,4,6,8,4,5,2,1,9,0,4,6,7,4,3,2,1,9,10,3,7,9,6,0,1,3,5,6,7,8,9,10,2,3,6,8,9,10,6,7,4,3]\n"
   ]
  },
  {
   "cell_type": "code",
   "execution_count": 3,
   "id": "d930ce21",
   "metadata": {},
   "outputs": [
    {
     "name": "stdout",
     "output_type": "stream",
     "text": [
      " 2 : 4\n",
      " 4 : 5\n",
      " 6 : 6\n",
      " 8 : 3\n",
      " 5 : 2\n",
      " 1 : 3\n",
      " 9 : 5\n",
      " 0 : 2\n",
      " 7 : 4\n",
      " 3 : 5\n",
      " 10 : 3\n"
     ]
    }
   ],
   "source": [
    "freq = {}\n",
    "for items in numbers:\n",
    "    freq[items] = numbers.count(items)\n",
    "for key, value in freq.items():\n",
    "        print (\" %d : %d\"%(key, value))"
   ]
  },
  {
   "cell_type": "code",
   "execution_count": 10,
   "id": "3fee77ea",
   "metadata": {},
   "outputs": [],
   "source": [
    "import matplotlib.pyplot as plt\n",
    "import numpy as np "
   ]
  },
  {
   "cell_type": "code",
   "execution_count": 12,
   "id": "ccdf6226",
   "metadata": {},
   "outputs": [
    {
     "data": {
      "text/plain": [
       "<BarContainer object of 11 artists>"
      ]
     },
     "execution_count": 12,
     "metadata": {},
     "output_type": "execute_result"
    },
    {
     "data": {
      "image/png": "[encoded data removed]",
      "text/plain": [
       "<Figure size 432x288 with 1 Axes>"
      ]
     },
     "metadata": {
      "needs_background": "light"
     },
     "output_type": "display_data"
    }
   ],
   "source": [
    "x =list(freq.keys())\n",
    "y= list(freq.values())\n",
    "plt.bar(x,y)\n",
    "\n"
   ]
  },
  {
   "cell_type": "code",
   "execution_count": 15,
   "id": "ff4d51ad",
   "metadata": {},
   "outputs": [
    {
     "name": "stdout",
     "output_type": "stream",
     "text": [
      "{\"2\": 4, \"4\": 5, \"6\": 6, \"8\": 3, \"5\": 2, \"1\": 3, \"9\": 5, \"0\": 2, \"7\": 4, \"3\": 5, \"10\": 3}\n"
     ]
    }
   ],
   "source": [
    "import json\n",
    "print (json.dumps(freq))\n",
    "\n"
   ]
  },
  {
   "cell_type": "code",
   "execution_count": 19,
   "id": "06c88836",
   "metadata": {},
   "outputs": [],
   "source": [
    "import json\n",
    "with open(\"midterm.json\",\"w\") as outfile:\n",
    "    json.dump(freq, outfile)"
   ]
  },
  {
   "cell_type": "code",
   "execution_count": 58,
   "id": "414ab610",
   "metadata": {},
   "outputs": [],
   "source": [
    "path= working_directory + '/Viewing.csv'\n",
    "df = pd.read_csv(path)"
   ]
  },
  {
   "cell_type": "code",
   "execution_count": 48,
   "id": "04c37c65",
   "metadata": {},
   "outputs": [
    {
     "name": "stdout",
     "output_type": "stream",
     "text": [
      "/Users/aydinuluer\n"
     ]
    }
   ],
   "source": [
    "import os\n",
    "print(os.getcwd())"
   ]
  },
  {
   "cell_type": "code",
   "execution_count": 59,
   "id": "9155d8a7",
   "metadata": {
    "scrolled": false
   },
   "outputs": [
    {
     "data": {
      "text/html": [
       "<div>\n",
       "<style scoped>\n",
       "    .dataframe tbody tr th:only-of-type {\n",
       "        vertical-align: middle;\n",
       "    }\n",
       "\n",
       "    .dataframe tbody tr th {\n",
       "        vertical-align: top;\n",
       "    }\n",
       "\n",
       "    .dataframe thead th {\n",
       "        text-align: right;\n",
       "    }\n",
       "</style>\n",
       "<table border=\"1\" class=\"dataframe\">\n",
       "  <thead>\n",
       "    <tr style=\"text-align: right;\">\n",
       "      <th></th>\n",
       "      <th>Profile Name</th>\n",
       "      <th>Start Time</th>\n",
       "      <th>Duration</th>\n",
       "      <th>Attributes</th>\n",
       "      <th>Title</th>\n",
       "      <th>Supplemental Video Type</th>\n",
       "      <th>Device Type</th>\n",
       "      <th>Bookmark</th>\n",
       "      <th>Latest Bookmark</th>\n",
       "      <th>Country</th>\n",
       "    </tr>\n",
       "  </thead>\n",
       "  <tbody>\n",
       "    <tr>\n",
       "      <th>0</th>\n",
       "      <td>Aydin</td>\n",
       "      <td>2021-10-21 14:25:25</td>\n",
       "      <td>00:06:08</td>\n",
       "      <td>NaN</td>\n",
       "      <td>Peaky Blinders: Season 3: Episode 1</td>\n",
       "      <td>NaN</td>\n",
       "      <td>Apple iPhone 11</td>\n",
       "      <td>00:55:19</td>\n",
       "      <td>00:55:19</td>\n",
       "      <td>US (United States)</td>\n",
       "    </tr>\n",
       "    <tr>\n",
       "      <th>1</th>\n",
       "      <td>Aydin</td>\n",
       "      <td>2021-10-21 13:11:56</td>\n",
       "      <td>00:18:40</td>\n",
       "      <td>NaN</td>\n",
       "      <td>Peaky Blinders: Season 3: Episode 1</td>\n",
       "      <td>NaN</td>\n",
       "      <td>Apple iPhone 11</td>\n",
       "      <td>00:47:27</td>\n",
       "      <td>Not latest view</td>\n",
       "      <td>US (United States)</td>\n",
       "    </tr>\n",
       "    <tr>\n",
       "      <th>2</th>\n",
       "      <td>Aydin</td>\n",
       "      <td>2021-10-21 11:53:24</td>\n",
       "      <td>00:28:17</td>\n",
       "      <td>NaN</td>\n",
       "      <td>Peaky Blinders: Season 3: Episode 1</td>\n",
       "      <td>NaN</td>\n",
       "      <td>Apple iPhone 11</td>\n",
       "      <td>00:28:57</td>\n",
       "      <td>Not latest view</td>\n",
       "      <td>US (United States)</td>\n",
       "    </tr>\n",
       "    <tr>\n",
       "      <th>3</th>\n",
       "      <td>Aydin</td>\n",
       "      <td>2021-10-21 05:14:02</td>\n",
       "      <td>00:00:19</td>\n",
       "      <td>NaN</td>\n",
       "      <td>Peaky Blinders: Season 3: Episode 1</td>\n",
       "      <td>NaN</td>\n",
       "      <td>Apple iPhone 11</td>\n",
       "      <td>00:00:20</td>\n",
       "      <td>Not latest view</td>\n",
       "      <td>US (United States)</td>\n",
       "    </tr>\n",
       "    <tr>\n",
       "      <th>4</th>\n",
       "      <td>Aydin</td>\n",
       "      <td>2021-10-20 20:50:37</td>\n",
       "      <td>00:12:19</td>\n",
       "      <td>NaN</td>\n",
       "      <td>Peaky Blinders: Season 2: Episode 5</td>\n",
       "      <td>NaN</td>\n",
       "      <td>Apple iPhone 11</td>\n",
       "      <td>00:31:54</td>\n",
       "      <td>00:31:54</td>\n",
       "      <td>US (United States)</td>\n",
       "    </tr>\n",
       "  </tbody>\n",
       "</table>\n",
       "</div>"
      ],
      "text/plain": [
       "  Profile Name           Start Time  Duration Attributes  \\\n",
       "0        Aydin  2021-10-21 14:25:25  00:06:08        NaN   \n",
       "1        Aydin  2021-10-21 13:11:56  00:18:40        NaN   \n",
       "2        Aydin  2021-10-21 11:53:24  00:28:17        NaN   \n",
       "3        Aydin  2021-10-21 05:14:02  00:00:19        NaN   \n",
       "4        Aydin  2021-10-20 20:50:37  00:12:19        NaN   \n",
       "\n",
       "                                 Title Supplemental Video Type  \\\n",
       "0  Peaky Blinders: Season 3: Episode 1                     NaN   \n",
       "1  Peaky Blinders: Season 3: Episode 1                     NaN   \n",
       "2  Peaky Blinders: Season 3: Episode 1                     NaN   \n",
       "3  Peaky Blinders: Season 3: Episode 1                     NaN   \n",
       "4  Peaky Blinders: Season 2: Episode 5                     NaN   \n",
       "\n",
       "       Device Type  Bookmark  Latest Bookmark             Country  \n",
       "0  Apple iPhone 11  00:55:19         00:55:19  US (United States)  \n",
       "1  Apple iPhone 11  00:47:27  Not latest view  US (United States)  \n",
       "2  Apple iPhone 11  00:28:57  Not latest view  US (United States)  \n",
       "3  Apple iPhone 11  00:00:20  Not latest view  US (United States)  \n",
       "4  Apple iPhone 11  00:31:54         00:31:54  US (United States)  "
      ]
     },
     "execution_count": 59,
     "metadata": {},
     "output_type": "execute_result"
    }
   ],
   "source": [
    "df.head()"
   ]
  },
  {
   "cell_type": "code",
   "execution_count": 61,
   "id": "1026d810",
   "metadata": {},
   "outputs": [
    {
     "data": {
      "text/plain": [
       "(23191, 10)"
      ]
     },
     "execution_count": 61,
     "metadata": {},
     "output_type": "execute_result"
    }
   ],
   "source": [
    "df.shape"
   ]
  },
  {
   "cell_type": "code",
   "execution_count": 62,
   "id": "afbada43",
   "metadata": {},
   "outputs": [
    {
     "data": {
      "text/html": [
       "<div>\n",
       "<style scoped>\n",
       "    .dataframe tbody tr th:only-of-type {\n",
       "        vertical-align: middle;\n",
       "    }\n",
       "\n",
       "    .dataframe tbody tr th {\n",
       "        vertical-align: top;\n",
       "    }\n",
       "\n",
       "    .dataframe thead th {\n",
       "        text-align: right;\n",
       "    }\n",
       "</style>\n",
       "<table border=\"1\" class=\"dataframe\">\n",
       "  <thead>\n",
       "    <tr style=\"text-align: right;\">\n",
       "      <th></th>\n",
       "      <th>Start Time</th>\n",
       "      <th>Duration</th>\n",
       "      <th>Title</th>\n",
       "    </tr>\n",
       "  </thead>\n",
       "  <tbody>\n",
       "    <tr>\n",
       "      <th>0</th>\n",
       "      <td>2021-10-21 14:25:25</td>\n",
       "      <td>00:06:08</td>\n",
       "      <td>Peaky Blinders: Season 3: Episode 1</td>\n",
       "    </tr>\n",
       "  </tbody>\n",
       "</table>\n",
       "</div>"
      ],
      "text/plain": [
       "            Start Time  Duration                                Title\n",
       "0  2021-10-21 14:25:25  00:06:08  Peaky Blinders: Season 3: Episode 1"
      ]
     },
     "execution_count": 62,
     "metadata": {},
     "output_type": "execute_result"
    }
   ],
   "source": [
    "df = df.drop(['Profile Name', 'Attributes', 'Supplemental Video Type', 'Device Type', 'Bookmark', 'Latest Bookmark', 'Country'], axis=1)\n",
    "df.head(1)"
   ]
  },
  {
   "cell_type": "code",
   "execution_count": 64,
   "id": "0f9fe911",
   "metadata": {},
   "outputs": [
    {
     "data": {
      "text/plain": [
       "Start Time    object\n",
       "Duration      object\n",
       "Title         object\n",
       "dtype: object"
      ]
     },
     "execution_count": 64,
     "metadata": {},
     "output_type": "execute_result"
    }
   ],
   "source": [
    "df.dtypes"
   ]
  },
  {
   "cell_type": "code",
   "execution_count": 65,
   "id": "6685b009",
   "metadata": {},
   "outputs": [
    {
     "data": {
      "text/plain": [
       "Start Time    datetime64[ns, UTC]\n",
       "Duration                   object\n",
       "Title                      object\n",
       "dtype: object"
      ]
     },
     "execution_count": 65,
     "metadata": {},
     "output_type": "execute_result"
    }
   ],
   "source": [
    "df['Start Time'] = pd.to_datetime(df['Start Time'], utc=True)\n",
    "df.dtypes"
   ]
  },
  {
   "cell_type": "code",
   "execution_count": 66,
   "id": "2e45de99",
   "metadata": {},
   "outputs": [
    {
     "data": {
      "text/html": [
       "<div>\n",
       "<style scoped>\n",
       "    .dataframe tbody tr th:only-of-type {\n",
       "        vertical-align: middle;\n",
       "    }\n",
       "\n",
       "    .dataframe tbody tr th {\n",
       "        vertical-align: top;\n",
       "    }\n",
       "\n",
       "    .dataframe thead th {\n",
       "        text-align: right;\n",
       "    }\n",
       "</style>\n",
       "<table border=\"1\" class=\"dataframe\">\n",
       "  <thead>\n",
       "    <tr style=\"text-align: right;\">\n",
       "      <th></th>\n",
       "      <th>Start Time</th>\n",
       "      <th>Duration</th>\n",
       "      <th>Title</th>\n",
       "    </tr>\n",
       "  </thead>\n",
       "  <tbody>\n",
       "    <tr>\n",
       "      <th>0</th>\n",
       "      <td>2021-10-21 10:25:25-04:00</td>\n",
       "      <td>00:06:08</td>\n",
       "      <td>Peaky Blinders: Season 3: Episode 1</td>\n",
       "    </tr>\n",
       "  </tbody>\n",
       "</table>\n",
       "</div>"
      ],
      "text/plain": [
       "                 Start Time  Duration                                Title\n",
       "0 2021-10-21 10:25:25-04:00  00:06:08  Peaky Blinders: Season 3: Episode 1"
      ]
     },
     "execution_count": 66,
     "metadata": {},
     "output_type": "execute_result"
    }
   ],
   "source": [
    "df = df.set_index('Start Time')\n",
    "df.index = df.index.tz_convert('US/Eastern')\n",
    "df = df.reset_index()\n",
    "df.head(1)"
   ]
  },
  {
   "cell_type": "code",
   "execution_count": 67,
   "id": "5dd4f7fe",
   "metadata": {},
   "outputs": [
    {
     "data": {
      "text/plain": [
       "Start Time    datetime64[ns, US/Eastern]\n",
       "Duration                 timedelta64[ns]\n",
       "Title                             object\n",
       "dtype: object"
      ]
     },
     "execution_count": 67,
     "metadata": {},
     "output_type": "execute_result"
    }
   ],
   "source": [
    "df['Duration'] = pd.to_timedelta(df['Duration'])\n",
    "df.dtypes"
   ]
  },
  {
   "cell_type": "code",
   "execution_count": 68,
   "id": "a041cf38",
   "metadata": {},
   "outputs": [],
   "source": [
    "community = df[df['Title'].str.contains('Community', regex=False)]"
   ]
  },
  {
   "cell_type": "code",
   "execution_count": 69,
   "id": "c9474ac9",
   "metadata": {},
   "outputs": [
    {
     "data": {
      "text/plain": [
       "(1095, 3)"
      ]
     },
     "execution_count": 69,
     "metadata": {},
     "output_type": "execute_result"
    }
   ],
   "source": [
    "community.shape"
   ]
  },
  {
   "cell_type": "code",
   "execution_count": 70,
   "id": "fc7dbbe1",
   "metadata": {},
   "outputs": [
    {
     "data": {
      "text/plain": [
       "(959, 3)"
      ]
     },
     "execution_count": 70,
     "metadata": {},
     "output_type": "execute_result"
    }
   ],
   "source": [
    "community = community[(community['Duration'] > '0 days 00:01:00')]\n",
    "community.shape"
   ]
  },
  {
   "cell_type": "code",
   "execution_count": 71,
   "id": "c0cb7add",
   "metadata": {},
   "outputs": [
    {
     "data": {
      "text/plain": [
       "Timedelta('9 days 06:33:28')"
      ]
     },
     "execution_count": 71,
     "metadata": {},
     "output_type": "execute_result"
    }
   ],
   "source": [
    "community['Duration'].sum()"
   ]
  },
  {
   "cell_type": "code",
   "execution_count": 73,
   "id": "96fd9fb7",
   "metadata": {},
   "outputs": [
    {
     "data": {
      "text/html": [
       "<div>\n",
       "<style scoped>\n",
       "    .dataframe tbody tr th:only-of-type {\n",
       "        vertical-align: middle;\n",
       "    }\n",
       "\n",
       "    .dataframe tbody tr th {\n",
       "        vertical-align: top;\n",
       "    }\n",
       "\n",
       "    .dataframe thead th {\n",
       "        text-align: right;\n",
       "    }\n",
       "</style>\n",
       "<table border=\"1\" class=\"dataframe\">\n",
       "  <thead>\n",
       "    <tr style=\"text-align: right;\">\n",
       "      <th></th>\n",
       "      <th>Start Time</th>\n",
       "      <th>Duration</th>\n",
       "      <th>Title</th>\n",
       "      <th>weekday</th>\n",
       "      <th>hour</th>\n",
       "    </tr>\n",
       "  </thead>\n",
       "  <tbody>\n",
       "    <tr>\n",
       "      <th>544</th>\n",
       "      <td>2021-05-10 23:01:56-04:00</td>\n",
       "      <td>0 days 00:20:30</td>\n",
       "      <td>Community: Season 5: Basic Intergluteal Numism...</td>\n",
       "      <td>0</td>\n",
       "      <td>23</td>\n",
       "    </tr>\n",
       "    <tr>\n",
       "      <th>635</th>\n",
       "      <td>2021-03-31 12:58:42-04:00</td>\n",
       "      <td>0 days 00:02:47</td>\n",
       "      <td>Community: Season 3: Introduction to Finality ...</td>\n",
       "      <td>2</td>\n",
       "      <td>12</td>\n",
       "    </tr>\n",
       "  </tbody>\n",
       "</table>\n",
       "</div>"
      ],
      "text/plain": [
       "                   Start Time        Duration  \\\n",
       "544 2021-05-10 23:01:56-04:00 0 days 00:20:30   \n",
       "635 2021-03-31 12:58:42-04:00 0 days 00:02:47   \n",
       "\n",
       "                                                 Title  weekday  hour  \n",
       "544  Community: Season 5: Basic Intergluteal Numism...        0    23  \n",
       "635  Community: Season 3: Introduction to Finality ...        2    12  "
      ]
     },
     "execution_count": 73,
     "metadata": {},
     "output_type": "execute_result"
    }
   ],
   "source": [
    "community['weekday'] = community['Start Time'].dt.weekday\n",
    "community['hour'] = community['Start Time'].dt.hour\n",
    "community.head(2)"
   ]
  },
  {
   "cell_type": "code",
   "execution_count": 74,
   "id": "2dde51fd",
   "metadata": {},
   "outputs": [],
   "source": [
    "%matplotlib inline\n",
    "import matplotlib"
   ]
  },
  {
   "cell_type": "code",
   "execution_count": 75,
   "id": "4fb727e6",
   "metadata": {},
   "outputs": [
    {
     "data": {
      "text/plain": [
       "<AxesSubplot:title={'center':'Community Episodes Watched by Day'}>"
      ]
     },
     "execution_count": 75,
     "metadata": {},
     "output_type": "execute_result"
    },
    {
     "data": {
      "image/png": "[encoded data removed]",
      "text/plain": [
       "<Figure size 1440x720 with 1 Axes>"
      ]
     },
     "metadata": {
      "needs_background": "light"
     },
     "output_type": "display_data"
    }
   ],
   "source": [
    "community['weekday'] = pd.Categorical(community['weekday'], categories=\n",
    "    [0,1,2,3,4,5,6],\n",
    "    ordered=True)\n",
    "community_by_day = community['weekday'].value_counts()\n",
    "community_by_day = community_by_day.sort_index()\n",
    "matplotlib.rcParams.update({'font.size': 22})\n",
    "community_by_day.plot(kind='bar', figsize=(20,10), title='Community Episodes Watched by Day')"
   ]
  },
  {
   "cell_type": "code",
   "execution_count": 76,
   "id": "8ad4018c",
   "metadata": {},
   "outputs": [
    {
     "data": {
      "text/plain": [
       "<AxesSubplot:title={'center':'Community Episodes Watched by Hour'}>"
      ]
     },
     "execution_count": 76,
     "metadata": {},
     "output_type": "execute_result"
    },
    {
     "data": {
      "image/png": "[encoded data removed]",
      "text/plain": [
       "<Figure size 1440x720 with 1 Axes>"
      ]
     },
     "metadata": {
      "needs_background": "light"
     },
     "output_type": "display_data"
    }
   ],
   "source": [
    "community['hour'] = pd.Categorical(community['hour'], categories=\n",
    "    [0,1,2,3,4,5,6,7,8,9,10,11,12,13,14,15,16,17,18,19,20,21,22,23],\n",
    "    ordered=True)\n",
    "community_by_hour = community['hour'].value_counts()\n",
    "community_by_hour = community_by_hour.sort_index()\n",
    "community_by_hour.plot(kind='bar', figsize=(20,10), title='Community Episodes Watched by Hour')"
   ]
  },
  {
   "cell_type": "code",
   "execution_count": 85,
   "id": "e2ae8e54",
   "metadata": {},
   "outputs": [],
   "source": [
    "office = df[df['Title'].str.contains('The Office (U.S.)', regex=False)]"
   ]
  },
  {
   "cell_type": "code",
   "execution_count": 86,
   "id": "ee53057b",
   "metadata": {},
   "outputs": [
    {
     "data": {
      "text/plain": [
       "(1917, 3)"
      ]
     },
     "execution_count": 86,
     "metadata": {},
     "output_type": "execute_result"
    }
   ],
   "source": [
    "office.shape"
   ]
  },
  {
   "cell_type": "code",
   "execution_count": 87,
   "id": "59bf3470",
   "metadata": {},
   "outputs": [
    {
     "data": {
      "text/plain": [
       "(1718, 3)"
      ]
     },
     "execution_count": 87,
     "metadata": {},
     "output_type": "execute_result"
    }
   ],
   "source": [
    "office = office[(office['Duration'] > '0 days 00:01:00')]\n",
    "office.shape"
   ]
  },
  {
   "cell_type": "code",
   "execution_count": 84,
   "id": "26839f60",
   "metadata": {},
   "outputs": [
    {
     "data": {
      "text/plain": [
       "Title          object\n",
       "Device Type    object\n",
       "dtype: object"
      ]
     },
     "execution_count": 84,
     "metadata": {},
     "output_type": "execute_result"
    }
   ],
   "source": [
    "df2.dtypes"
   ]
  },
  {
   "cell_type": "code",
   "execution_count": 88,
   "id": "9681ef24",
   "metadata": {},
   "outputs": [
    {
     "data": {
      "text/plain": [
       "Timedelta('17 days 16:49:01')"
      ]
     },
     "execution_count": 88,
     "metadata": {},
     "output_type": "execute_result"
    }
   ],
   "source": [
    "office['Duration'].sum()"
   ]
  },
  {
   "cell_type": "code",
   "execution_count": 89,
   "id": "8f8a1368",
   "metadata": {},
   "outputs": [
    {
     "data": {
      "text/html": [
       "<div>\n",
       "<style scoped>\n",
       "    .dataframe tbody tr th:only-of-type {\n",
       "        vertical-align: middle;\n",
       "    }\n",
       "\n",
       "    .dataframe tbody tr th {\n",
       "        vertical-align: top;\n",
       "    }\n",
       "\n",
       "    .dataframe thead th {\n",
       "        text-align: right;\n",
       "    }\n",
       "</style>\n",
       "<table border=\"1\" class=\"dataframe\">\n",
       "  <thead>\n",
       "    <tr style=\"text-align: right;\">\n",
       "      <th></th>\n",
       "      <th>Start Time</th>\n",
       "      <th>Duration</th>\n",
       "      <th>Title</th>\n",
       "      <th>weekday</th>\n",
       "      <th>hour</th>\n",
       "    </tr>\n",
       "  </thead>\n",
       "  <tbody>\n",
       "    <tr>\n",
       "      <th>3197</th>\n",
       "      <td>2019-10-18 22:20:55-04:00</td>\n",
       "      <td>0 days 00:14:18</td>\n",
       "      <td>The Office (U.S.): Season 3: Women's Appreciat...</td>\n",
       "      <td>4</td>\n",
       "      <td>22</td>\n",
       "    </tr>\n",
       "  </tbody>\n",
       "</table>\n",
       "</div>"
      ],
      "text/plain": [
       "                    Start Time        Duration  \\\n",
       "3197 2019-10-18 22:20:55-04:00 0 days 00:14:18   \n",
       "\n",
       "                                                  Title  weekday  hour  \n",
       "3197  The Office (U.S.): Season 3: Women's Appreciat...        4    22  "
      ]
     },
     "execution_count": 89,
     "metadata": {},
     "output_type": "execute_result"
    }
   ],
   "source": [
    "office['weekday'] = office['Start Time'].dt.weekday\n",
    "office['hour'] = office['Start Time'].dt.hour\n",
    "\n",
    "\n",
    "office.head(1)"
   ]
  },
  {
   "cell_type": "code",
   "execution_count": 90,
   "id": "c664cc3c",
   "metadata": {},
   "outputs": [
    {
     "data": {
      "text/plain": [
       "<AxesSubplot:title={'center':'Office Episodes Watched by Day'}>"
      ]
     },
     "execution_count": 90,
     "metadata": {},
     "output_type": "execute_result"
    },
    {
     "data": {
      "image/png": "[encoded data removed]",
      "text/plain": [
       "<Figure size 1440x720 with 1 Axes>"
      ]
     },
     "metadata": {
      "needs_background": "light"
     },
     "output_type": "display_data"
    }
   ],
   "source": [
    "office['weekday'] = pd.Categorical(office['weekday'], categories=\n",
    "    [0,1,2,3,4,5,6],\n",
    "    ordered=True)\n",
    "\n",
    "\n",
    "office_by_day = office['weekday'].value_counts()\n",
    "\n",
    "\n",
    "office_by_day = office_by_day.sort_index()\n",
    "\n",
    "matplotlib.rcParams.update({'font.size': 22})\n",
    "\n",
    "\n",
    "office_by_day.plot(kind='bar', figsize=(20,10), title='Office Episodes Watched by Day')"
   ]
  },
  {
   "cell_type": "code",
   "execution_count": 92,
   "id": "0ce242fd",
   "metadata": {},
   "outputs": [
    {
     "data": {
      "text/plain": [
       "<AxesSubplot:title={'center':'Office Episodes Watched by Hour'}>"
      ]
     },
     "execution_count": 92,
     "metadata": {},
     "output_type": "execute_result"
    },
    {
     "data": {
      "image/png": "[encoded data removed]",
      "text/plain": [
       "<Figure size 1440x720 with 1 Axes>"
      ]
     },
     "metadata": {
      "needs_background": "light"
     },
     "output_type": "display_data"
    }
   ],
   "source": [
    "office['hour'] = pd.Categorical(office['hour'], categories=\n",
    "    [0,1,2,3,4,5,6,7,8,9,10,11,12,13,14,15,16,17,18,19,20,21,22,23],\n",
    "    ordered=True)\n",
    "\n",
    "\n",
    "office_by_hour = office['hour'].value_counts()\n",
    "\n",
    "office_by_hour = office_by_hour.sort_index()\n",
    "\n",
    "office_by_hour.plot(kind='bar', figsize=(20,10), title='Office Episodes Watched by Hour')"
   ]
  },
  {
   "cell_type": "code",
   "execution_count": null,
   "id": "88cbed1f",
   "metadata": {},
   "outputs": [],
   "source": []
  }
 ],
 "metadata": {
  "kernelspec": {
   "display_name": "Python 3",
   "language": "python",
   "name": "python3"
  },
  "language_info": {
   "codemirror_mode": {
    "name": "ipython",
    "version": 3
   },
   "file_extension": ".py",
   "mimetype": "text/x-python",
   "name": "python",
   "nbconvert_exporter": "python",
   "pygments_lexer": "ipython3",
   "version": "3.8.8"
  }
 },
 "nbformat": 4,
 "nbformat_minor": 5
}
