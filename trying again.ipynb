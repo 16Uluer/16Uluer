{
 "cells": [
  {
   "cell_type": "code",
   "execution_count": 2,
   "id": "25cb6945",
   "metadata": {},
   "outputs": [],
   "source": [
    "marks ={'Andy':88, 'Amy': 66, 'James': 90, 'Jules': 55, 'Arthur': 77}"
   ]
  },
  {
   "cell_type": "code",
   "execution_count": 3,
   "id": "6dd6f29b",
   "metadata": {},
   "outputs": [
    {
     "name": "stdout",
     "output_type": "stream",
     "text": [
      "Andy 88\n",
      "Amy 66\n",
      "James 90\n",
      "Jules 55\n",
      "Arthur 77\n"
     ]
    }
   ],
   "source": [
    "for names in marks .keys():\n",
    "    print (names, marks[names])"
   ]
  },
  {
   "cell_type": "code",
   "execution_count": 5,
   "id": "45e17d7a",
   "metadata": {},
   "outputs": [
    {
     "data": {
      "text/plain": [
       "90"
      ]
     },
     "execution_count": 5,
     "metadata": {},
     "output_type": "execute_result"
    }
   ],
   "source": [
    "max(marks.values())"
   ]
  },
  {
   "cell_type": "code",
   "execution_count": 6,
   "id": "3b3e2f6c",
   "metadata": {},
   "outputs": [
    {
     "data": {
      "text/plain": [
       "55"
      ]
     },
     "execution_count": 6,
     "metadata": {},
     "output_type": "execute_result"
    }
   ],
   "source": [
    "min(marks.values())"
   ]
  },
  {
   "cell_type": "code",
   "execution_count": 5,
   "id": "bf737997",
   "metadata": {},
   "outputs": [],
   "source": [
    "res = 0\n",
    "for val in marks.values():\n",
    "    res += val\n",
    "res = res/ len(marks)"
   ]
  },
  {
   "cell_type": "code",
   "execution_count": 6,
   "id": "9c8409f2",
   "metadata": {},
   "outputs": [
    {
     "name": "stdout",
     "output_type": "stream",
     "text": [
      "75.2\n"
     ]
    }
   ],
   "source": [
    "print(res)"
   ]
  },
  {
   "cell_type": "code",
   "execution_count": 7,
   "id": "68655fcd",
   "metadata": {},
   "outputs": [
    {
     "name": "stdout",
     "output_type": "stream",
     "text": [
      "Andy\n",
      "Amy\n"
     ]
    }
   ],
   "source": [
    "for names in marks. keys():\n",
    "    if 'J' in names:\n",
    "        break\n",
    "    print(names)"
   ]
  },
  {
   "cell_type": "code",
   "execution_count": 8,
   "id": "43ce0fd4",
   "metadata": {},
   "outputs": [
    {
     "name": "stdout",
     "output_type": "stream",
     "text": [
      "Andy\n",
      "Amy\n",
      "Arthur\n"
     ]
    }
   ],
   "source": [
    "for names in marks. keys():\n",
    "    if \"J\" in names:\n",
    "        continue\n",
    "    print (names)"
   ]
  },
  {
   "cell_type": "code",
   "execution_count": 9,
   "id": "9d9d0a74",
   "metadata": {},
   "outputs": [],
   "source": [
    "def getgrade(name):\n",
    "    for n in marks:\n",
    "        if n == name:\n",
    "            print (marks[name])\n",
    "            return\n",
    "    print(' You cannot find this students name')\n",
    "            "
   ]
  },
  {
   "cell_type": "code",
   "execution_count": 10,
   "id": "b4f96c4e",
   "metadata": {},
   "outputs": [
    {
     "name": "stdout",
     "output_type": "stream",
     "text": [
      "90\n"
     ]
    }
   ],
   "source": [
    "getgrade('James')"
   ]
  },
  {
   "cell_type": "code",
   "execution_count": 11,
   "id": "6c23cf6f",
   "metadata": {},
   "outputs": [
    {
     "name": "stdout",
     "output_type": "stream",
     "text": [
      " You cannot find this students name\n"
     ]
    }
   ],
   "source": [
    "getgrade('bob')"
   ]
  },
  {
   "cell_type": "code",
   "execution_count": 12,
   "id": "501e6425",
   "metadata": {},
   "outputs": [
    {
     "name": "stdout",
     "output_type": "stream",
     "text": [
      "0\n",
      "1\n",
      "2\n",
      "3\n",
      "4\n"
     ]
    }
   ],
   "source": [
    "def less_than(num):\n",
    "    for n in range(num):\n",
    "        print(n)\n",
    "less_than(5)"
   ]
  },
  {
   "cell_type": "code",
   "execution_count": 21,
   "id": "12ef1e73",
   "metadata": {},
   "outputs": [
    {
     "name": "stdout",
     "output_type": "stream",
     "text": [
      "0 0\n",
      "1 1\n",
      "2 4\n",
      "3 9\n",
      "4 16\n",
      "5 25\n",
      "6 36\n",
      "7 49\n",
      "greater than 8\n"
     ]
    }
   ],
   "source": [
    "def lessthan(num):\n",
    "    n =0\n",
    "    while n< num:\n",
    "        print(n,n**2)\n",
    "        n += 1\n",
    "    else:\n",
    "        print ('greater than', num)\n",
    "lessthan(8)\n"
   ]
  },
  {
   "cell_type": "code",
   "execution_count": 29,
   "id": "a19cbb65",
   "metadata": {},
   "outputs": [
    {
     "name": "stdout",
     "output_type": "stream",
     "text": [
      "190\n"
     ]
    }
   ],
   "source": [
    "def sumfunction(num):\n",
    "    n=1 \n",
    "    sum =0\n",
    "    while n < num:\n",
    "        sum = sum +n\n",
    "        n= n+1\n",
    "    print (sum)\n",
    "sumfunction(20)"
   ]
  },
  {
   "cell_type": "code",
   "execution_count": 28,
   "id": "0d5c8e25",
   "metadata": {},
   "outputs": [
    {
     "name": "stdout",
     "output_type": "stream",
     "text": [
      "0\n",
      "1\n",
      "3\n",
      "6\n",
      "10\n",
      "15\n",
      "21\n",
      "28\n",
      "36\n",
      "45\n",
      "55\n",
      "66\n",
      "78\n",
      "91\n",
      "105\n",
      "120\n",
      "136\n",
      "153\n",
      "171\n",
      "190\n"
     ]
    }
   ],
   "source": [
    "def sumfunction2(num):\n",
    "    sum = 0\n",
    "    for n in range(num):\n",
    "        sum = sum + n\n",
    "        print (sum)\n",
    "sumfunction2(20)"
   ]
  },
  {
   "cell_type": "code",
   "execution_count": 33,
   "id": "eb24af9e",
   "metadata": {},
   "outputs": [],
   "source": [
    "def minimum(v1,v2,v3,v4):\n",
    "    min_value = v1\n",
    "    if v2< min_value:\n",
    "        min_value = v2\n",
    "    if v3< min_value:\n",
    "        min_value = v3\n",
    "    if v4 < min_value:\n",
    "        min_value =v4\n",
    "    return min_value\n"
   ]
  },
  {
   "cell_type": "code",
   "execution_count": 35,
   "id": "ac824149",
   "metadata": {},
   "outputs": [
    {
     "data": {
      "text/plain": [
       "9"
      ]
     },
     "execution_count": 35,
     "metadata": {},
     "output_type": "execute_result"
    }
   ],
   "source": [
    "minimum(15,89,24,9)"
   ]
  },
  {
   "cell_type": "code",
   "execution_count": null,
   "id": "5d69bc1b",
   "metadata": {},
   "outputs": [],
   "source": []
  }
 ],
 "metadata": {
  "kernelspec": {
   "display_name": "Python 3",
   "language": "python",
   "name": "python3"
  },
  "language_info": {
   "codemirror_mode": {
    "name": "ipython",
    "version": 3
   },
   "file_extension": ".py",
   "mimetype": "text/x-python",
   "name": "python",
   "nbconvert_exporter": "python",
   "pygments_lexer": "ipython3",
   "version": "3.8.8"
  }
 },
 "nbformat": 4,
 "nbformat_minor": 5
}
