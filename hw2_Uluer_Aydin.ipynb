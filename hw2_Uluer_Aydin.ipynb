{
 "cells": [
  {
   "cell_type": "code",
   "execution_count": 2,
   "id": "409ce2c6",
   "metadata": {},
   "outputs": [
    {
     "name": "stdout",
     "output_type": "stream",
     "text": [
      "0\n",
      "1\n",
      "2\n",
      "3\n",
      "4\n"
     ]
    }
   ],
   "source": [
    "n = 0\n",
    "while n < 10:\n",
    "    print (n)\n",
    "    if n == 4:\n",
    "        break\n",
    "    n += 1"
   ]
  },
  {
   "cell_type": "code",
   "execution_count": 8,
   "id": "d1eae8c3",
   "metadata": {},
   "outputs": [
    {
     "name": "stdout",
     "output_type": "stream",
     "text": [
      "0\n",
      "1\n",
      "2\n",
      "3\n",
      "4\n",
      "5 is not less than 5\n"
     ]
    }
   ],
   "source": [
    "n = 0\n",
    "while n < 5:\n",
    "    print (n)\n",
    "    n = n + 1\n",
    "else:\n",
    "    print (n, \"is not less than 5\")"
   ]
  },
  {
   "cell_type": "code",
   "execution_count": 10,
   "id": "2b570dc4",
   "metadata": {},
   "outputs": [
    {
     "name": "stdout",
     "output_type": "stream",
     "text": [
      "['banana', 'orange', 'peach', 'apple']\n"
     ]
    }
   ],
   "source": [
    "myfruits = [\"banana\", \"orange\", \"peach\" ,\"apple\"]\n",
    "print (myfruits)"
   ]
  },
  {
   "cell_type": "code",
   "execution_count": 75,
   "id": "ff3cf04f",
   "metadata": {},
   "outputs": [
    {
     "name": "stdout",
     "output_type": "stream",
     "text": [
      "I like banana\n",
      "I like orange\n",
      "I like peach\n",
      "apple is really a fruit?\n"
     ]
    }
   ],
   "source": [
    "for fruit in myfruits:\n",
    "    if fruit == \"apple\":\n",
    "        print (fruit, \"is really a fruit?\")\n",
    "    else:\n",
    "        print (\"I like\", fruit)"
   ]
  },
  {
   "cell_type": "code",
   "execution_count": 78,
   "id": "3ee51845",
   "metadata": {},
   "outputs": [
    {
     "name": "stdout",
     "output_type": "stream",
     "text": [
      "465\n"
     ]
    }
   ],
   "source": [
    "i = 0 \n",
    "sum = 0\n",
    "while i<30:\n",
    "    i += 1\n",
    "    sum += i\n",
    "print (sum)"
   ]
  },
  {
   "cell_type": "code",
   "execution_count": 79,
   "id": "bc8174b6",
   "metadata": {},
   "outputs": [],
   "source": [
    "weather = {'sunny':'play', 'rainy': 'watch Tv', 'Cloudy': \"walk\"}"
   ]
  },
  {
   "cell_type": "code",
   "execution_count": 80,
   "id": "67976c78",
   "metadata": {},
   "outputs": [
    {
     "name": "stdout",
     "output_type": "stream",
     "text": [
      "when sunny let us play\n",
      "when rainy let us watch Tv\n",
      "when Cloudy let us walk\n"
     ]
    }
   ],
   "source": [
    "for ws in weather .keys():\n",
    "    print (\"when\", ws,\"let us\",weather[ws])\n",
    "    "
   ]
  },
  {
   "cell_type": "code",
   "execution_count": 88,
   "id": "623a1533",
   "metadata": {},
   "outputs": [
    {
     "name": "stdout",
     "output_type": "stream",
     "text": [
      "when sunny let us play\n",
      "when rainy let us watch Tv\n",
      "when Cloudy let us walk\n"
     ]
    }
   ],
   "source": [
    "for ws in weather .keys():\n",
    "    print(\"when\", ws, \"let us\", end = \" \")\n",
    "    if ws == \"sunny\":\n",
    "        print( \"play\")\n",
    "    if ws == \"rainy\":\n",
    "        print (\"watch Tv\")\n",
    "    if ws == \"Cloudy\":\n",
    "        print (\"walk\")\n"
   ]
  },
  {
   "cell_type": "code",
   "execution_count": 94,
   "id": "677522cb",
   "metadata": {},
   "outputs": [],
   "source": [
    "grades= {\"A\": 90, \"B\":80,\"C\":70, \"D\": 60, \"F\":0}\n",
    "studentgrade = 55"
   ]
  },
  {
   "cell_type": "code",
   "execution_count": 95,
   "id": "c063da49",
   "metadata": {},
   "outputs": [
    {
     "name": "stdout",
     "output_type": "stream",
     "text": [
      "F\n"
     ]
    }
   ],
   "source": [
    "if studentgrade > grades[\"A\"]:\n",
    "    print (\"A\")\n",
    "elif studentgrade > grades[\"B\"]:\n",
    "    print (\"B\")\n",
    "elif studentgrade > grades [\"C\"]:\n",
    "    print (\"C\")\n",
    "elif studentgrade > grades [\"D\"]:\n",
    "    print (\"D\")\n",
    "elif studentgrade > grades [\"F\"]:\n",
    "    print (\"F\")\n"
   ]
  },
  {
   "cell_type": "code",
   "execution_count": null,
   "id": "48f546af",
   "metadata": {},
   "outputs": [],
   "source": []
  }
 ],
 "metadata": {
  "kernelspec": {
   "display_name": "Python 3",
   "language": "python",
   "name": "python3"
  },
  "language_info": {
   "codemirror_mode": {
    "name": "ipython",
    "version": 3
   },
   "file_extension": ".py",
   "mimetype": "text/x-python",
   "name": "python",
   "nbconvert_exporter": "python",
   "pygments_lexer": "ipython3",
   "version": "3.8.8"
  }
 },
 "nbformat": 4,
 "nbformat_minor": 5
}
